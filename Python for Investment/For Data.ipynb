{
 "cells": [
  {
   "cell_type": "code",
   "execution_count": 2,
   "metadata": {},
   "outputs": [],
   "source": [
    "import numpy as np"
   ]
  },
  {
   "cell_type": "code",
   "execution_count": 3,
   "metadata": {},
   "outputs": [
    {
     "data": {
      "text/plain": [
       "array([[1, 3, 5],\n",
       "       [0, 2, 4]])"
      ]
     },
     "execution_count": 3,
     "metadata": {},
     "output_type": "execute_result"
    }
   ],
   "source": [
    "# must have same data type and the same # of elements\n",
    "a = np.array([[1,3,5], [0,2,4]])\n",
    "a"
   ]
  },
  {
   "cell_type": "code",
   "execution_count": 4,
   "metadata": {},
   "outputs": [
    {
     "data": {
      "text/plain": [
       "(2, 3)"
      ]
     },
     "execution_count": 4,
     "metadata": {},
     "output_type": "execute_result"
    }
   ],
   "source": [
    "a.shape"
   ]
  },
  {
   "cell_type": "code",
   "execution_count": 5,
   "metadata": {},
   "outputs": [
    {
     "data": {
      "text/plain": [
       "5"
      ]
     },
     "execution_count": 5,
     "metadata": {},
     "output_type": "execute_result"
    }
   ],
   "source": [
    "a[0,2]"
   ]
  },
  {
   "cell_type": "code",
   "execution_count": 6,
   "metadata": {},
   "outputs": [
    {
     "data": {
      "text/plain": [
       "array([[1, 3, 7],\n",
       "       [0, 2, 4]])"
      ]
     },
     "execution_count": 6,
     "metadata": {},
     "output_type": "execute_result"
    }
   ],
   "source": [
    "a[0,2]=7\n",
    "a"
   ]
  },
  {
   "cell_type": "code",
   "execution_count": 7,
   "metadata": {},
   "outputs": [
    {
     "data": {
      "text/plain": [
       "array([[ 2,  4],\n",
       "       [ 6,  8],\n",
       "       [10, 12]])"
      ]
     },
     "execution_count": 7,
     "metadata": {},
     "output_type": "execute_result"
    }
   ],
   "source": [
    "b = np.array([[2,4], [6,8], [10,12]])\n",
    "b"
   ]
  },
  {
   "cell_type": "markdown",
   "metadata": {},
   "source": [
    "## importing random numbers\n"
   ]
  },
  {
   "cell_type": "code",
   "execution_count": 3,
   "metadata": {},
   "outputs": [],
   "source": [
    "import random"
   ]
  },
  {
   "cell_type": "code",
   "execution_count": 11,
   "metadata": {},
   "outputs": [
    {
     "data": {
      "text/plain": [
       "0.14195966600802779"
      ]
     },
     "execution_count": 11,
     "metadata": {},
     "output_type": "execute_result"
    }
   ],
   "source": [
    "# random() only between 0-1\n",
    "prob = random.random()\n",
    "prob"
   ]
  },
  {
   "cell_type": "code",
   "execution_count": 16,
   "metadata": {},
   "outputs": [
    {
     "data": {
      "text/plain": [
       "2"
      ]
     },
     "execution_count": 16,
     "metadata": {},
     "output_type": "execute_result"
    }
   ],
   "source": [
    "# randint() generates random numbers between specified interval\n",
    "number = random.randint(1,8)\n",
    "number"
   ]
  },
  {
   "cell_type": "code",
   "execution_count": 14,
   "metadata": {
    "scrolled": true
   },
   "outputs": [
    {
     "data": {
      "text/plain": [
       "array([[5, 3, 5, 5]])"
      ]
     },
     "execution_count": 14,
     "metadata": {},
     "output_type": "execute_result"
    }
   ],
   "source": [
    "c = np.random.randint(1,6,(1,4))\n",
    "c"
   ]
  },
  {
   "cell_type": "code",
   "execution_count": 19,
   "metadata": {},
   "outputs": [],
   "source": [
    "import pandas as pd "
   ]
  },
  {
   "cell_type": "code",
   "execution_count": 23,
   "metadata": {},
   "outputs": [
    {
     "data": {
      "text/plain": [
       "0    0.522845\n",
       "1    0.775168\n",
       "2    0.810385\n",
       "3    0.223453\n",
       "4    0.029537\n",
       "Name: Column 01, dtype: float64"
      ]
     },
     "execution_count": 23,
     "metadata": {},
     "output_type": "execute_result"
    }
   ],
   "source": [
    "ser = pd.Series(np.random.random(5), name = \"Column 01\")\n",
    "ser"
   ]
  },
  {
   "cell_type": "code",
   "execution_count": 26,
   "metadata": {},
   "outputs": [],
   "source": [
    "from pandas_datareader import data as wb"
   ]
  },
  {
   "cell_type": "code",
   "execution_count": 29,
   "metadata": {},
   "outputs": [
    {
     "data": {
      "text/html": [
       "<div>\n",
       "<style scoped>\n",
       "    .dataframe tbody tr th:only-of-type {\n",
       "        vertical-align: middle;\n",
       "    }\n",
       "\n",
       "    .dataframe tbody tr th {\n",
       "        vertical-align: top;\n",
       "    }\n",
       "\n",
       "    .dataframe thead th {\n",
       "        text-align: right;\n",
       "    }\n",
       "</style>\n",
       "<table border=\"1\" class=\"dataframe\">\n",
       "  <thead>\n",
       "    <tr style=\"text-align: right;\">\n",
       "      <th></th>\n",
       "      <th>High</th>\n",
       "      <th>Low</th>\n",
       "      <th>Open</th>\n",
       "      <th>Close</th>\n",
       "      <th>Volume</th>\n",
       "      <th>Adj Close</th>\n",
       "    </tr>\n",
       "    <tr>\n",
       "      <th>Date</th>\n",
       "      <th></th>\n",
       "      <th></th>\n",
       "      <th></th>\n",
       "      <th></th>\n",
       "      <th></th>\n",
       "      <th></th>\n",
       "    </tr>\n",
       "  </thead>\n",
       "  <tbody>\n",
       "    <tr>\n",
       "      <th>1995-01-03</th>\n",
       "      <td>15.625000</td>\n",
       "      <td>15.437500</td>\n",
       "      <td>15.468750</td>\n",
       "      <td>15.593750</td>\n",
       "      <td>3318400.0</td>\n",
       "      <td>6.362402</td>\n",
       "    </tr>\n",
       "    <tr>\n",
       "      <th>1995-01-04</th>\n",
       "      <td>15.656250</td>\n",
       "      <td>15.312500</td>\n",
       "      <td>15.531250</td>\n",
       "      <td>15.468750</td>\n",
       "      <td>2218800.0</td>\n",
       "      <td>6.311406</td>\n",
       "    </tr>\n",
       "    <tr>\n",
       "      <th>1995-01-05</th>\n",
       "      <td>15.437500</td>\n",
       "      <td>15.218750</td>\n",
       "      <td>15.375000</td>\n",
       "      <td>15.250000</td>\n",
       "      <td>2319600.0</td>\n",
       "      <td>6.222151</td>\n",
       "    </tr>\n",
       "    <tr>\n",
       "      <th>1995-01-06</th>\n",
       "      <td>15.406250</td>\n",
       "      <td>15.156250</td>\n",
       "      <td>15.156250</td>\n",
       "      <td>15.281250</td>\n",
       "      <td>3438000.0</td>\n",
       "      <td>6.234900</td>\n",
       "    </tr>\n",
       "    <tr>\n",
       "      <th>1995-01-09</th>\n",
       "      <td>15.406250</td>\n",
       "      <td>15.187500</td>\n",
       "      <td>15.343750</td>\n",
       "      <td>15.218750</td>\n",
       "      <td>1795200.0</td>\n",
       "      <td>6.209402</td>\n",
       "    </tr>\n",
       "    <tr>\n",
       "      <th>...</th>\n",
       "      <td>...</td>\n",
       "      <td>...</td>\n",
       "      <td>...</td>\n",
       "      <td>...</td>\n",
       "      <td>...</td>\n",
       "      <td>...</td>\n",
       "    </tr>\n",
       "    <tr>\n",
       "      <th>2020-03-23</th>\n",
       "      <td>103.750000</td>\n",
       "      <td>94.339996</td>\n",
       "      <td>100.190002</td>\n",
       "      <td>97.699997</td>\n",
       "      <td>17776800.0</td>\n",
       "      <td>97.699997</td>\n",
       "    </tr>\n",
       "    <tr>\n",
       "      <th>2020-03-24</th>\n",
       "      <td>104.000000</td>\n",
       "      <td>96.070000</td>\n",
       "      <td>101.230003</td>\n",
       "      <td>103.269997</td>\n",
       "      <td>14625500.0</td>\n",
       "      <td>103.269997</td>\n",
       "    </tr>\n",
       "    <tr>\n",
       "      <th>2020-03-25</th>\n",
       "      <td>104.699997</td>\n",
       "      <td>98.599998</td>\n",
       "      <td>100.510002</td>\n",
       "      <td>100.919998</td>\n",
       "      <td>13789100.0</td>\n",
       "      <td>100.919998</td>\n",
       "    </tr>\n",
       "    <tr>\n",
       "      <th>2020-03-26</th>\n",
       "      <td>108.309998</td>\n",
       "      <td>102.529999</td>\n",
       "      <td>103.879997</td>\n",
       "      <td>107.379997</td>\n",
       "      <td>15796000.0</td>\n",
       "      <td>107.379997</td>\n",
       "    </tr>\n",
       "    <tr>\n",
       "      <th>2020-03-27</th>\n",
       "      <td>114.290001</td>\n",
       "      <td>106.489998</td>\n",
       "      <td>106.489998</td>\n",
       "      <td>110.279999</td>\n",
       "      <td>12210058.0</td>\n",
       "      <td>110.279999</td>\n",
       "    </tr>\n",
       "  </tbody>\n",
       "</table>\n",
       "<p>6354 rows × 6 columns</p>\n",
       "</div>"
      ],
      "text/plain": [
       "                  High         Low        Open       Close      Volume  \\\n",
       "Date                                                                     \n",
       "1995-01-03   15.625000   15.437500   15.468750   15.593750   3318400.0   \n",
       "1995-01-04   15.656250   15.312500   15.531250   15.468750   2218800.0   \n",
       "1995-01-05   15.437500   15.218750   15.375000   15.250000   2319600.0   \n",
       "1995-01-06   15.406250   15.156250   15.156250   15.281250   3438000.0   \n",
       "1995-01-09   15.406250   15.187500   15.343750   15.218750   1795200.0   \n",
       "...                ...         ...         ...         ...         ...   \n",
       "2020-03-23  103.750000   94.339996  100.190002   97.699997  17776800.0   \n",
       "2020-03-24  104.000000   96.070000  101.230003  103.269997  14625500.0   \n",
       "2020-03-25  104.699997   98.599998  100.510002  100.919998  13789100.0   \n",
       "2020-03-26  108.309998  102.529999  103.879997  107.379997  15796000.0   \n",
       "2020-03-27  114.290001  106.489998  106.489998  110.279999  12210058.0   \n",
       "\n",
       "             Adj Close  \n",
       "Date                    \n",
       "1995-01-03    6.362402  \n",
       "1995-01-04    6.311406  \n",
       "1995-01-05    6.222151  \n",
       "1995-01-06    6.234900  \n",
       "1995-01-09    6.209402  \n",
       "...                ...  \n",
       "2020-03-23   97.699997  \n",
       "2020-03-24  103.269997  \n",
       "2020-03-25  100.919998  \n",
       "2020-03-26  107.379997  \n",
       "2020-03-27  110.279999  \n",
       "\n",
       "[6354 rows x 6 columns]"
      ]
     },
     "execution_count": 29,
     "metadata": {},
     "output_type": "execute_result"
    }
   ],
   "source": [
    "PG = wb.DataReader(\"PG\", data_source = \"yahoo\", start = \"1995-1-1\")\n",
    "PG"
   ]
  },
  {
   "cell_type": "code",
   "execution_count": 30,
   "metadata": {},
   "outputs": [
    {
     "name": "stdout",
     "output_type": "stream",
     "text": [
      "<class 'pandas.core.frame.DataFrame'>\n",
      "DatetimeIndex: 6354 entries, 1995-01-03 to 2020-03-27\n",
      "Data columns (total 6 columns):\n",
      " #   Column     Non-Null Count  Dtype  \n",
      "---  ------     --------------  -----  \n",
      " 0   High       6354 non-null   float64\n",
      " 1   Low        6354 non-null   float64\n",
      " 2   Open       6354 non-null   float64\n",
      " 3   Close      6354 non-null   float64\n",
      " 4   Volume     6354 non-null   float64\n",
      " 5   Adj Close  6354 non-null   float64\n",
      "dtypes: float64(6)\n",
      "memory usage: 347.5 KB\n"
     ]
    }
   ],
   "source": [
    "PG.info()"
   ]
  },
  {
   "cell_type": "code",
   "execution_count": 31,
   "metadata": {},
   "outputs": [
    {
     "data": {
      "text/html": [
       "<div>\n",
       "<style scoped>\n",
       "    .dataframe tbody tr th:only-of-type {\n",
       "        vertical-align: middle;\n",
       "    }\n",
       "\n",
       "    .dataframe tbody tr th {\n",
       "        vertical-align: top;\n",
       "    }\n",
       "\n",
       "    .dataframe thead th {\n",
       "        text-align: right;\n",
       "    }\n",
       "</style>\n",
       "<table border=\"1\" class=\"dataframe\">\n",
       "  <thead>\n",
       "    <tr style=\"text-align: right;\">\n",
       "      <th></th>\n",
       "      <th>High</th>\n",
       "      <th>Low</th>\n",
       "      <th>Open</th>\n",
       "      <th>Close</th>\n",
       "      <th>Volume</th>\n",
       "      <th>Adj Close</th>\n",
       "    </tr>\n",
       "    <tr>\n",
       "      <th>Date</th>\n",
       "      <th></th>\n",
       "      <th></th>\n",
       "      <th></th>\n",
       "      <th></th>\n",
       "      <th></th>\n",
       "      <th></th>\n",
       "    </tr>\n",
       "  </thead>\n",
       "  <tbody>\n",
       "    <tr>\n",
       "      <th>1995-01-03</th>\n",
       "      <td>15.62500</td>\n",
       "      <td>15.43750</td>\n",
       "      <td>15.46875</td>\n",
       "      <td>15.59375</td>\n",
       "      <td>3318400.0</td>\n",
       "      <td>6.362402</td>\n",
       "    </tr>\n",
       "    <tr>\n",
       "      <th>1995-01-04</th>\n",
       "      <td>15.65625</td>\n",
       "      <td>15.31250</td>\n",
       "      <td>15.53125</td>\n",
       "      <td>15.46875</td>\n",
       "      <td>2218800.0</td>\n",
       "      <td>6.311406</td>\n",
       "    </tr>\n",
       "    <tr>\n",
       "      <th>1995-01-05</th>\n",
       "      <td>15.43750</td>\n",
       "      <td>15.21875</td>\n",
       "      <td>15.37500</td>\n",
       "      <td>15.25000</td>\n",
       "      <td>2319600.0</td>\n",
       "      <td>6.222151</td>\n",
       "    </tr>\n",
       "    <tr>\n",
       "      <th>1995-01-06</th>\n",
       "      <td>15.40625</td>\n",
       "      <td>15.15625</td>\n",
       "      <td>15.15625</td>\n",
       "      <td>15.28125</td>\n",
       "      <td>3438000.0</td>\n",
       "      <td>6.234900</td>\n",
       "    </tr>\n",
       "    <tr>\n",
       "      <th>1995-01-09</th>\n",
       "      <td>15.40625</td>\n",
       "      <td>15.18750</td>\n",
       "      <td>15.34375</td>\n",
       "      <td>15.21875</td>\n",
       "      <td>1795200.0</td>\n",
       "      <td>6.209402</td>\n",
       "    </tr>\n",
       "  </tbody>\n",
       "</table>\n",
       "</div>"
      ],
      "text/plain": [
       "                High       Low      Open     Close     Volume  Adj Close\n",
       "Date                                                                    \n",
       "1995-01-03  15.62500  15.43750  15.46875  15.59375  3318400.0   6.362402\n",
       "1995-01-04  15.65625  15.31250  15.53125  15.46875  2218800.0   6.311406\n",
       "1995-01-05  15.43750  15.21875  15.37500  15.25000  2319600.0   6.222151\n",
       "1995-01-06  15.40625  15.15625  15.15625  15.28125  3438000.0   6.234900\n",
       "1995-01-09  15.40625  15.18750  15.34375  15.21875  1795200.0   6.209402"
      ]
     },
     "execution_count": 31,
     "metadata": {},
     "output_type": "execute_result"
    }
   ],
   "source": [
    "PG.head()"
   ]
  },
  {
   "cell_type": "code",
   "execution_count": 32,
   "metadata": {},
   "outputs": [
    {
     "data": {
      "text/html": [
       "<div>\n",
       "<style scoped>\n",
       "    .dataframe tbody tr th:only-of-type {\n",
       "        vertical-align: middle;\n",
       "    }\n",
       "\n",
       "    .dataframe tbody tr th {\n",
       "        vertical-align: top;\n",
       "    }\n",
       "\n",
       "    .dataframe thead th {\n",
       "        text-align: right;\n",
       "    }\n",
       "</style>\n",
       "<table border=\"1\" class=\"dataframe\">\n",
       "  <thead>\n",
       "    <tr style=\"text-align: right;\">\n",
       "      <th></th>\n",
       "      <th>High</th>\n",
       "      <th>Low</th>\n",
       "      <th>Open</th>\n",
       "      <th>Close</th>\n",
       "      <th>Volume</th>\n",
       "      <th>Adj Close</th>\n",
       "    </tr>\n",
       "    <tr>\n",
       "      <th>Date</th>\n",
       "      <th></th>\n",
       "      <th></th>\n",
       "      <th></th>\n",
       "      <th></th>\n",
       "      <th></th>\n",
       "      <th></th>\n",
       "    </tr>\n",
       "  </thead>\n",
       "  <tbody>\n",
       "    <tr>\n",
       "      <th>2020-03-23</th>\n",
       "      <td>103.750000</td>\n",
       "      <td>94.339996</td>\n",
       "      <td>100.190002</td>\n",
       "      <td>97.699997</td>\n",
       "      <td>17776800.0</td>\n",
       "      <td>97.699997</td>\n",
       "    </tr>\n",
       "    <tr>\n",
       "      <th>2020-03-24</th>\n",
       "      <td>104.000000</td>\n",
       "      <td>96.070000</td>\n",
       "      <td>101.230003</td>\n",
       "      <td>103.269997</td>\n",
       "      <td>14625500.0</td>\n",
       "      <td>103.269997</td>\n",
       "    </tr>\n",
       "    <tr>\n",
       "      <th>2020-03-25</th>\n",
       "      <td>104.699997</td>\n",
       "      <td>98.599998</td>\n",
       "      <td>100.510002</td>\n",
       "      <td>100.919998</td>\n",
       "      <td>13789100.0</td>\n",
       "      <td>100.919998</td>\n",
       "    </tr>\n",
       "    <tr>\n",
       "      <th>2020-03-26</th>\n",
       "      <td>108.309998</td>\n",
       "      <td>102.529999</td>\n",
       "      <td>103.879997</td>\n",
       "      <td>107.379997</td>\n",
       "      <td>15796000.0</td>\n",
       "      <td>107.379997</td>\n",
       "    </tr>\n",
       "    <tr>\n",
       "      <th>2020-03-27</th>\n",
       "      <td>114.290001</td>\n",
       "      <td>106.489998</td>\n",
       "      <td>106.489998</td>\n",
       "      <td>110.279999</td>\n",
       "      <td>12210058.0</td>\n",
       "      <td>110.279999</td>\n",
       "    </tr>\n",
       "  </tbody>\n",
       "</table>\n",
       "</div>"
      ],
      "text/plain": [
       "                  High         Low        Open       Close      Volume  \\\n",
       "Date                                                                     \n",
       "2020-03-23  103.750000   94.339996  100.190002   97.699997  17776800.0   \n",
       "2020-03-24  104.000000   96.070000  101.230003  103.269997  14625500.0   \n",
       "2020-03-25  104.699997   98.599998  100.510002  100.919998  13789100.0   \n",
       "2020-03-26  108.309998  102.529999  103.879997  107.379997  15796000.0   \n",
       "2020-03-27  114.290001  106.489998  106.489998  110.279999  12210058.0   \n",
       "\n",
       "             Adj Close  \n",
       "Date                    \n",
       "2020-03-23   97.699997  \n",
       "2020-03-24  103.269997  \n",
       "2020-03-25  100.919998  \n",
       "2020-03-26  107.379997  \n",
       "2020-03-27  110.279999  "
      ]
     },
     "execution_count": 32,
     "metadata": {},
     "output_type": "execute_result"
    }
   ],
   "source": [
    "PG.tail()"
   ]
  },
  {
   "cell_type": "code",
   "execution_count": 35,
   "metadata": {},
   "outputs": [
    {
     "data": {
      "text/html": [
       "<div>\n",
       "<style scoped>\n",
       "    .dataframe tbody tr th:only-of-type {\n",
       "        vertical-align: middle;\n",
       "    }\n",
       "\n",
       "    .dataframe tbody tr th {\n",
       "        vertical-align: top;\n",
       "    }\n",
       "\n",
       "    .dataframe thead th {\n",
       "        text-align: right;\n",
       "    }\n",
       "</style>\n",
       "<table border=\"1\" class=\"dataframe\">\n",
       "  <thead>\n",
       "    <tr style=\"text-align: right;\">\n",
       "      <th></th>\n",
       "      <th>High</th>\n",
       "      <th>Low</th>\n",
       "      <th>Open</th>\n",
       "      <th>Close</th>\n",
       "      <th>Volume</th>\n",
       "      <th>Adj Close</th>\n",
       "    </tr>\n",
       "    <tr>\n",
       "      <th>Date</th>\n",
       "      <th></th>\n",
       "      <th></th>\n",
       "      <th></th>\n",
       "      <th></th>\n",
       "      <th></th>\n",
       "      <th></th>\n",
       "    </tr>\n",
       "  </thead>\n",
       "  <tbody>\n",
       "    <tr>\n",
       "      <th>1995-01-03</th>\n",
       "      <td>15.62500</td>\n",
       "      <td>15.43750</td>\n",
       "      <td>15.46875</td>\n",
       "      <td>15.59375</td>\n",
       "      <td>3318400.0</td>\n",
       "      <td>6.362402</td>\n",
       "    </tr>\n",
       "    <tr>\n",
       "      <th>1995-01-04</th>\n",
       "      <td>15.65625</td>\n",
       "      <td>15.31250</td>\n",
       "      <td>15.53125</td>\n",
       "      <td>15.46875</td>\n",
       "      <td>2218800.0</td>\n",
       "      <td>6.311406</td>\n",
       "    </tr>\n",
       "    <tr>\n",
       "      <th>1995-01-05</th>\n",
       "      <td>15.43750</td>\n",
       "      <td>15.21875</td>\n",
       "      <td>15.37500</td>\n",
       "      <td>15.25000</td>\n",
       "      <td>2319600.0</td>\n",
       "      <td>6.222151</td>\n",
       "    </tr>\n",
       "    <tr>\n",
       "      <th>1995-01-06</th>\n",
       "      <td>15.40625</td>\n",
       "      <td>15.15625</td>\n",
       "      <td>15.15625</td>\n",
       "      <td>15.28125</td>\n",
       "      <td>3438000.0</td>\n",
       "      <td>6.234900</td>\n",
       "    </tr>\n",
       "    <tr>\n",
       "      <th>1995-01-09</th>\n",
       "      <td>15.40625</td>\n",
       "      <td>15.18750</td>\n",
       "      <td>15.34375</td>\n",
       "      <td>15.21875</td>\n",
       "      <td>1795200.0</td>\n",
       "      <td>6.209402</td>\n",
       "    </tr>\n",
       "    <tr>\n",
       "      <th>1995-01-10</th>\n",
       "      <td>15.43750</td>\n",
       "      <td>15.18750</td>\n",
       "      <td>15.28125</td>\n",
       "      <td>15.40625</td>\n",
       "      <td>4364000.0</td>\n",
       "      <td>6.285902</td>\n",
       "    </tr>\n",
       "    <tr>\n",
       "      <th>1995-01-11</th>\n",
       "      <td>15.59375</td>\n",
       "      <td>15.37500</td>\n",
       "      <td>15.59375</td>\n",
       "      <td>15.37500</td>\n",
       "      <td>3738400.0</td>\n",
       "      <td>6.273152</td>\n",
       "    </tr>\n",
       "    <tr>\n",
       "      <th>1995-01-12</th>\n",
       "      <td>15.53125</td>\n",
       "      <td>15.31250</td>\n",
       "      <td>15.37500</td>\n",
       "      <td>15.53125</td>\n",
       "      <td>3307600.0</td>\n",
       "      <td>6.336905</td>\n",
       "    </tr>\n",
       "    <tr>\n",
       "      <th>1995-01-13</th>\n",
       "      <td>15.84375</td>\n",
       "      <td>15.53125</td>\n",
       "      <td>15.59375</td>\n",
       "      <td>15.62500</td>\n",
       "      <td>3992800.0</td>\n",
       "      <td>6.522133</td>\n",
       "    </tr>\n",
       "    <tr>\n",
       "      <th>1995-01-16</th>\n",
       "      <td>15.96875</td>\n",
       "      <td>15.75000</td>\n",
       "      <td>15.90625</td>\n",
       "      <td>15.75000</td>\n",
       "      <td>3677200.0</td>\n",
       "      <td>6.574313</td>\n",
       "    </tr>\n",
       "  </tbody>\n",
       "</table>\n",
       "</div>"
      ],
      "text/plain": [
       "                High       Low      Open     Close     Volume  Adj Close\n",
       "Date                                                                    \n",
       "1995-01-03  15.62500  15.43750  15.46875  15.59375  3318400.0   6.362402\n",
       "1995-01-04  15.65625  15.31250  15.53125  15.46875  2218800.0   6.311406\n",
       "1995-01-05  15.43750  15.21875  15.37500  15.25000  2319600.0   6.222151\n",
       "1995-01-06  15.40625  15.15625  15.15625  15.28125  3438000.0   6.234900\n",
       "1995-01-09  15.40625  15.18750  15.34375  15.21875  1795200.0   6.209402\n",
       "1995-01-10  15.43750  15.18750  15.28125  15.40625  4364000.0   6.285902\n",
       "1995-01-11  15.59375  15.37500  15.59375  15.37500  3738400.0   6.273152\n",
       "1995-01-12  15.53125  15.31250  15.37500  15.53125  3307600.0   6.336905\n",
       "1995-01-13  15.84375  15.53125  15.59375  15.62500  3992800.0   6.522133\n",
       "1995-01-16  15.96875  15.75000  15.90625  15.75000  3677200.0   6.574313"
      ]
     },
     "execution_count": 35,
     "metadata": {},
     "output_type": "execute_result"
    }
   ],
   "source": [
    "PG.head(10)"
   ]
  },
  {
   "cell_type": "code",
   "execution_count": 38,
   "metadata": {},
   "outputs": [],
   "source": [
    "tickers = ['PG', 'MSFT', 'T', 'F', 'GE']\n",
    "new_data = pd.DataFrame()\n",
    "for t in tickers:\n",
    "    new_data[t] = wb.DataReader(t, data_source = 'yahoo', start = '1995-1-1')['Adj Close']"
   ]
  },
  {
   "cell_type": "code",
   "execution_count": 39,
   "metadata": {},
   "outputs": [
    {
     "data": {
      "text/html": [
       "<div>\n",
       "<style scoped>\n",
       "    .dataframe tbody tr th:only-of-type {\n",
       "        vertical-align: middle;\n",
       "    }\n",
       "\n",
       "    .dataframe tbody tr th {\n",
       "        vertical-align: top;\n",
       "    }\n",
       "\n",
       "    .dataframe thead th {\n",
       "        text-align: right;\n",
       "    }\n",
       "</style>\n",
       "<table border=\"1\" class=\"dataframe\">\n",
       "  <thead>\n",
       "    <tr style=\"text-align: right;\">\n",
       "      <th></th>\n",
       "      <th>PG</th>\n",
       "      <th>MSFT</th>\n",
       "      <th>T</th>\n",
       "      <th>F</th>\n",
       "      <th>GE</th>\n",
       "    </tr>\n",
       "    <tr>\n",
       "      <th>Date</th>\n",
       "      <th></th>\n",
       "      <th></th>\n",
       "      <th></th>\n",
       "      <th></th>\n",
       "      <th></th>\n",
       "    </tr>\n",
       "  </thead>\n",
       "  <tbody>\n",
       "    <tr>\n",
       "      <th>2020-03-16</th>\n",
       "      <td>108.500000</td>\n",
       "      <td>135.419998</td>\n",
       "      <td>31.809999</td>\n",
       "      <td>5.01</td>\n",
       "      <td>6.66</td>\n",
       "    </tr>\n",
       "    <tr>\n",
       "      <th>2020-03-17</th>\n",
       "      <td>118.239998</td>\n",
       "      <td>146.570007</td>\n",
       "      <td>33.740002</td>\n",
       "      <td>5.01</td>\n",
       "      <td>7.08</td>\n",
       "    </tr>\n",
       "    <tr>\n",
       "      <th>2020-03-18</th>\n",
       "      <td>117.449997</td>\n",
       "      <td>140.399994</td>\n",
       "      <td>32.849998</td>\n",
       "      <td>4.50</td>\n",
       "      <td>6.60</td>\n",
       "    </tr>\n",
       "    <tr>\n",
       "      <th>2020-03-19</th>\n",
       "      <td>110.830002</td>\n",
       "      <td>142.710007</td>\n",
       "      <td>31.150000</td>\n",
       "      <td>4.47</td>\n",
       "      <td>6.48</td>\n",
       "    </tr>\n",
       "    <tr>\n",
       "      <th>2020-03-20</th>\n",
       "      <td>102.430000</td>\n",
       "      <td>137.350006</td>\n",
       "      <td>28.450001</td>\n",
       "      <td>4.33</td>\n",
       "      <td>6.52</td>\n",
       "    </tr>\n",
       "    <tr>\n",
       "      <th>2020-03-23</th>\n",
       "      <td>97.699997</td>\n",
       "      <td>135.979996</td>\n",
       "      <td>26.770000</td>\n",
       "      <td>4.01</td>\n",
       "      <td>6.11</td>\n",
       "    </tr>\n",
       "    <tr>\n",
       "      <th>2020-03-24</th>\n",
       "      <td>103.269997</td>\n",
       "      <td>148.339996</td>\n",
       "      <td>28.090000</td>\n",
       "      <td>4.95</td>\n",
       "      <td>7.01</td>\n",
       "    </tr>\n",
       "    <tr>\n",
       "      <th>2020-03-25</th>\n",
       "      <td>100.919998</td>\n",
       "      <td>146.919998</td>\n",
       "      <td>28.400000</td>\n",
       "      <td>5.39</td>\n",
       "      <td>7.56</td>\n",
       "    </tr>\n",
       "    <tr>\n",
       "      <th>2020-03-26</th>\n",
       "      <td>107.379997</td>\n",
       "      <td>156.110001</td>\n",
       "      <td>30.600000</td>\n",
       "      <td>5.25</td>\n",
       "      <td>8.12</td>\n",
       "    </tr>\n",
       "    <tr>\n",
       "      <th>2020-03-27</th>\n",
       "      <td>110.169998</td>\n",
       "      <td>149.699997</td>\n",
       "      <td>29.840000</td>\n",
       "      <td>5.19</td>\n",
       "      <td>7.62</td>\n",
       "    </tr>\n",
       "  </tbody>\n",
       "</table>\n",
       "</div>"
      ],
      "text/plain": [
       "                    PG        MSFT          T     F    GE\n",
       "Date                                                     \n",
       "2020-03-16  108.500000  135.419998  31.809999  5.01  6.66\n",
       "2020-03-17  118.239998  146.570007  33.740002  5.01  7.08\n",
       "2020-03-18  117.449997  140.399994  32.849998  4.50  6.60\n",
       "2020-03-19  110.830002  142.710007  31.150000  4.47  6.48\n",
       "2020-03-20  102.430000  137.350006  28.450001  4.33  6.52\n",
       "2020-03-23   97.699997  135.979996  26.770000  4.01  6.11\n",
       "2020-03-24  103.269997  148.339996  28.090000  4.95  7.01\n",
       "2020-03-25  100.919998  146.919998  28.400000  5.39  7.56\n",
       "2020-03-26  107.379997  156.110001  30.600000  5.25  8.12\n",
       "2020-03-27  110.169998  149.699997  29.840000  5.19  7.62"
      ]
     },
     "execution_count": 39,
     "metadata": {},
     "output_type": "execute_result"
    }
   ],
   "source": [
    "new_data.tail(10) "
   ]
  },
  {
   "cell_type": "code",
   "execution_count": 41,
   "metadata": {},
   "outputs": [],
   "source": [
    "import quandl"
   ]
  },
  {
   "cell_type": "code",
   "execution_count": 43,
   "metadata": {},
   "outputs": [],
   "source": [
    "mydata_01 = quandl.get('FRED/GDP')"
   ]
  },
  {
   "cell_type": "code",
   "execution_count": 45,
   "metadata": {},
   "outputs": [
    {
     "data": {
      "text/html": [
       "<div>\n",
       "<style scoped>\n",
       "    .dataframe tbody tr th:only-of-type {\n",
       "        vertical-align: middle;\n",
       "    }\n",
       "\n",
       "    .dataframe tbody tr th {\n",
       "        vertical-align: top;\n",
       "    }\n",
       "\n",
       "    .dataframe thead th {\n",
       "        text-align: right;\n",
       "    }\n",
       "</style>\n",
       "<table border=\"1\" class=\"dataframe\">\n",
       "  <thead>\n",
       "    <tr style=\"text-align: right;\">\n",
       "      <th></th>\n",
       "      <th>Value</th>\n",
       "    </tr>\n",
       "    <tr>\n",
       "      <th>Date</th>\n",
       "      <th></th>\n",
       "    </tr>\n",
       "  </thead>\n",
       "  <tbody>\n",
       "    <tr>\n",
       "      <th>1947-01-01</th>\n",
       "      <td>243.164</td>\n",
       "    </tr>\n",
       "    <tr>\n",
       "      <th>1947-04-01</th>\n",
       "      <td>245.968</td>\n",
       "    </tr>\n",
       "    <tr>\n",
       "      <th>1947-07-01</th>\n",
       "      <td>249.585</td>\n",
       "    </tr>\n",
       "    <tr>\n",
       "      <th>1947-10-01</th>\n",
       "      <td>259.745</td>\n",
       "    </tr>\n",
       "    <tr>\n",
       "      <th>1948-01-01</th>\n",
       "      <td>265.742</td>\n",
       "    </tr>\n",
       "  </tbody>\n",
       "</table>\n",
       "</div>"
      ],
      "text/plain": [
       "              Value\n",
       "Date               \n",
       "1947-01-01  243.164\n",
       "1947-04-01  245.968\n",
       "1947-07-01  249.585\n",
       "1947-10-01  259.745\n",
       "1948-01-01  265.742"
      ]
     },
     "execution_count": 45,
     "metadata": {},
     "output_type": "execute_result"
    }
   ],
   "source": [
    "mydata_01.head()"
   ]
  },
  {
   "cell_type": "code",
   "execution_count": 46,
   "metadata": {},
   "outputs": [],
   "source": [
    "# saving the data to specified folder as CSV file\n",
    "import pandas as pd "
   ]
  },
  {
   "cell_type": "code",
   "execution_count": 50,
   "metadata": {},
   "outputs": [],
   "source": [
    "mydata_01.to_csv(\"C:/Users/nicat/Desktop/Python/Python for Investment/example_01.csv\")"
   ]
  },
  {
   "cell_type": "code",
   "execution_count": 51,
   "metadata": {},
   "outputs": [],
   "source": [
    "# to import the csv data - mydata_02 = pd.read_csv(\"C:/Users/nicat/Desktop/Python/Python for Investment/example_02.csv\")"
   ]
  },
  {
   "cell_type": "code",
   "execution_count": 55,
   "metadata": {},
   "outputs": [],
   "source": [
    "mydata_01.to_excel(\"C:/Users/nicat/Desktop/Python/Python for Investment/example_01.xlsx\")"
   ]
  },
  {
   "cell_type": "code",
   "execution_count": null,
   "metadata": {},
   "outputs": [],
   "source": []
  }
 ],
 "metadata": {
  "kernelspec": {
   "display_name": "Python 3",
   "language": "python",
   "name": "python3"
  },
  "language_info": {
   "codemirror_mode": {
    "name": "ipython",
    "version": 3
   },
   "file_extension": ".py",
   "mimetype": "text/x-python",
   "name": "python",
   "nbconvert_exporter": "python",
   "pygments_lexer": "ipython3",
   "version": "3.7.6"
  }
 },
 "nbformat": 4,
 "nbformat_minor": 4
}
