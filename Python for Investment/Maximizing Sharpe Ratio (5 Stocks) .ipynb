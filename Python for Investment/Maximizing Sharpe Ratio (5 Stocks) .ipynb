{
 "cells": [
  {
   "cell_type": "code",
   "execution_count": 14,
   "metadata": {},
   "outputs": [],
   "source": [
    "import numpy as np\n",
    "import pandas as pd \n",
    "from pandas_datareader import data as wb\n",
    "import matplotlib.pyplot as plt\n",
    "%matplotlib inline"
   ]
  },
  {
   "cell_type": "code",
   "execution_count": 65,
   "metadata": {},
   "outputs": [],
   "source": [
    "assets = ['PG', 'WMT', 'MCD', 'AAPL', 'MSFT']\n",
    "pf_data = pd.DataFrame()\n",
    "\n",
    "for a in assets:\n",
    "    pf_data[a] = wb.DataReader(a, data_source = 'yahoo', start = '2010-1-1')['Adj Close']"
   ]
  },
  {
   "cell_type": "code",
   "execution_count": 68,
   "metadata": {},
   "outputs": [
    {
     "data": {
      "text/html": [
       "<div>\n",
       "<style scoped>\n",
       "    .dataframe tbody tr th:only-of-type {\n",
       "        vertical-align: middle;\n",
       "    }\n",
       "\n",
       "    .dataframe tbody tr th {\n",
       "        vertical-align: top;\n",
       "    }\n",
       "\n",
       "    .dataframe thead th {\n",
       "        text-align: right;\n",
       "    }\n",
       "</style>\n",
       "<table border=\"1\" class=\"dataframe\">\n",
       "  <thead>\n",
       "    <tr style=\"text-align: right;\">\n",
       "      <th></th>\n",
       "      <th>PG</th>\n",
       "      <th>WMT</th>\n",
       "      <th>MCD</th>\n",
       "      <th>AAPL</th>\n",
       "      <th>MSFT</th>\n",
       "    </tr>\n",
       "    <tr>\n",
       "      <th>Date</th>\n",
       "      <th></th>\n",
       "      <th></th>\n",
       "      <th></th>\n",
       "      <th></th>\n",
       "      <th></th>\n",
       "    </tr>\n",
       "  </thead>\n",
       "  <tbody>\n",
       "    <tr>\n",
       "      <th>2010-01-04</th>\n",
       "      <td>44.352634</td>\n",
       "      <td>42.126259</td>\n",
       "      <td>45.909164</td>\n",
       "      <td>26.538483</td>\n",
       "      <td>24.294369</td>\n",
       "    </tr>\n",
       "    <tr>\n",
       "      <th>2010-01-05</th>\n",
       "      <td>44.367153</td>\n",
       "      <td>41.706783</td>\n",
       "      <td>45.558159</td>\n",
       "      <td>26.584366</td>\n",
       "      <td>24.302216</td>\n",
       "    </tr>\n",
       "    <tr>\n",
       "      <th>2010-01-06</th>\n",
       "      <td>44.156704</td>\n",
       "      <td>41.613556</td>\n",
       "      <td>44.936562</td>\n",
       "      <td>26.161509</td>\n",
       "      <td>24.153070</td>\n",
       "    </tr>\n",
       "    <tr>\n",
       "      <th>2010-01-07</th>\n",
       "      <td>43.917240</td>\n",
       "      <td>41.636871</td>\n",
       "      <td>45.265656</td>\n",
       "      <td>26.113146</td>\n",
       "      <td>23.901886</td>\n",
       "    </tr>\n",
       "    <tr>\n",
       "      <th>2010-01-08</th>\n",
       "      <td>43.859173</td>\n",
       "      <td>41.427132</td>\n",
       "      <td>45.221771</td>\n",
       "      <td>26.286753</td>\n",
       "      <td>24.066734</td>\n",
       "    </tr>\n",
       "    <tr>\n",
       "      <th>...</th>\n",
       "      <td>...</td>\n",
       "      <td>...</td>\n",
       "      <td>...</td>\n",
       "      <td>...</td>\n",
       "      <td>...</td>\n",
       "    </tr>\n",
       "    <tr>\n",
       "      <th>2020-04-15</th>\n",
       "      <td>121.220001</td>\n",
       "      <td>128.759995</td>\n",
       "      <td>177.839996</td>\n",
       "      <td>284.429993</td>\n",
       "      <td>171.880005</td>\n",
       "    </tr>\n",
       "    <tr>\n",
       "      <th>2020-04-16</th>\n",
       "      <td>121.500000</td>\n",
       "      <td>132.330002</td>\n",
       "      <td>179.500000</td>\n",
       "      <td>286.690002</td>\n",
       "      <td>177.039993</td>\n",
       "    </tr>\n",
       "    <tr>\n",
       "      <th>2020-04-17</th>\n",
       "      <td>124.690002</td>\n",
       "      <td>132.119995</td>\n",
       "      <td>186.100006</td>\n",
       "      <td>282.799988</td>\n",
       "      <td>178.600006</td>\n",
       "    </tr>\n",
       "    <tr>\n",
       "      <th>2020-04-20</th>\n",
       "      <td>120.599998</td>\n",
       "      <td>129.850006</td>\n",
       "      <td>181.649994</td>\n",
       "      <td>276.929993</td>\n",
       "      <td>175.059998</td>\n",
       "    </tr>\n",
       "    <tr>\n",
       "      <th>2020-04-21</th>\n",
       "      <td>119.305801</td>\n",
       "      <td>129.810104</td>\n",
       "      <td>178.529999</td>\n",
       "      <td>269.010315</td>\n",
       "      <td>168.936600</td>\n",
       "    </tr>\n",
       "  </tbody>\n",
       "</table>\n",
       "<p>2592 rows × 5 columns</p>\n",
       "</div>"
      ],
      "text/plain": [
       "                    PG         WMT         MCD        AAPL        MSFT\n",
       "Date                                                                  \n",
       "2010-01-04   44.352634   42.126259   45.909164   26.538483   24.294369\n",
       "2010-01-05   44.367153   41.706783   45.558159   26.584366   24.302216\n",
       "2010-01-06   44.156704   41.613556   44.936562   26.161509   24.153070\n",
       "2010-01-07   43.917240   41.636871   45.265656   26.113146   23.901886\n",
       "2010-01-08   43.859173   41.427132   45.221771   26.286753   24.066734\n",
       "...                ...         ...         ...         ...         ...\n",
       "2020-04-15  121.220001  128.759995  177.839996  284.429993  171.880005\n",
       "2020-04-16  121.500000  132.330002  179.500000  286.690002  177.039993\n",
       "2020-04-17  124.690002  132.119995  186.100006  282.799988  178.600006\n",
       "2020-04-20  120.599998  129.850006  181.649994  276.929993  175.059998\n",
       "2020-04-21  119.305801  129.810104  178.529999  269.010315  168.936600\n",
       "\n",
       "[2592 rows x 5 columns]"
      ]
     },
     "execution_count": 68,
     "metadata": {},
     "output_type": "execute_result"
    }
   ],
   "source": [
    "pf_data"
   ]
  },
  {
   "cell_type": "code",
   "execution_count": 69,
   "metadata": {},
   "outputs": [],
   "source": [
    "def portfolio_annualized_performance(weights, mean_returns, cov_matrix):\n",
    "    returns = np.sum(mean_returns * weights) * 250\n",
    "    std = np.sqrt(np.dot(weights.T, np.dot(weights, cov_matrix))) * np.sqrt(250)\n",
    "    return std, returns\n",
    "    "
   ]
  },
  {
   "cell_type": "code",
   "execution_count": 78,
   "metadata": {},
   "outputs": [],
   "source": [
    "np.random.seed(0)\n",
    "def random_portfolios(num_portfolios, mean_returns, cov_matrix, risk_free_rate):\n",
    "    results = np.zeros((3,num_portfolios))\n",
    "    weights_record = []\n",
    "    for x in range(num_portfolios):\n",
    "        weights = np.random.random(len(assets))\n",
    "        weights /= np.sum(weights)\n",
    "        weights_record.append(weights)\n",
    "        port_std, port_return = portfolio_annualized_performance(weights, mean_returns, cov_matrix)\n",
    "        results[0, x] = port_std\n",
    "        results[1, x] = port_return\n",
    "        results[2, x] = (port_return - risk_free_rate) / port_std\n",
    "    return results, weights_record"
   ]
  },
  {
   "cell_type": "code",
   "execution_count": 79,
   "metadata": {},
   "outputs": [],
   "source": [
    "returns = pf_data.pct_change()\n",
    "mean_returns = returns.mean()\n",
    "cov_matrix = returns.cov()\n",
    "risk_free_rate = 0.0012\n",
    "num_portfolios = 10000"
   ]
  },
  {
   "cell_type": "code",
   "execution_count": 84,
   "metadata": {},
   "outputs": [],
   "source": [
    "np.random.seed(0)\n",
    "def optimal_portfolio_weight():\n",
    "    results, weights = random_portfolios(num_portfolios, mean_returns, cov_matrix, risk_free_rate)\n",
    "    \n",
    "    max_sharpe_idx = np.argmax(results[2])\n",
    "    sdp, rp = results[0, max_sharpe_idx], results[1, max_sharpe_idx]\n",
    "    max_sharpe_allocation = pd.DataFrame(weights[max_sharpe_idx],index=pf_data.columns,columns=['allocation'])\n",
    "    max_sharpe_allocation.allocation = [round(i*100,2)for i in max_sharpe_allocation.allocation]\n",
    "    max_sharpe_allocation = max_sharpe_allocation.T\n",
    "    \n",
    "    \n",
    "    print (\"-\"*80)\n",
    "    print (\"Maximum Sharpe Ratio Portfolio Allocation\\n\")\n",
    "    print (\"Annualized Return:\", round(rp,4))\n",
    "    print (\"Annualized Volatility:\", round(sdp,4))\n",
    "    print (\"\\n\")\n",
    "    print (str(max_sharpe_allocation) + ' %')\n",
    "    print (\"-\"*80)\n",
    "\n",
    "    plt.figure(figsize = (10,6))\n",
    "    plt.xlabel('Annualized Volatility')\n",
    "    plt.ylabel('Annualized Return')\n",
    "    plt.scatter(results[0,:], results[1,:])"
   ]
  },
  {
   "cell_type": "code",
   "execution_count": 85,
   "metadata": {
    "scrolled": false
   },
   "outputs": [
    {
     "name": "stdout",
     "output_type": "stream",
     "text": [
      "--------------------------------------------------------------------------------\n",
      "Maximum Sharpe Ratio Portfolio Allocation\n",
      "\n",
      "Annualized Return: 0.1937\n",
      "Annualized Volatility: 0.1736\n",
      "\n",
      "\n",
      "              PG    WMT    MCD   AAPL   MSFT\n",
      "allocation  2.59  19.79  25.91  33.17  18.54 %\n",
      "--------------------------------------------------------------------------------\n"
     ]
    },
    {
     "data": {
      "image/png": "[encoded data removed]",
      "text/plain": [
       "<Figure size 720x432 with 1 Axes>"
      ]
     },
     "metadata": {
      "needs_background": "light"
     },
     "output_type": "display_data"
    }
   ],
   "source": [
    "optimal_portfolio_weight()"
   ]
  },
  {
   "cell_type": "code",
   "execution_count": null,
   "metadata": {},
   "outputs": [],
   "source": []
  }
 ],
 "metadata": {
  "kernelspec": {
   "display_name": "Python 3",
   "language": "python",
   "name": "python3"
  },
  "language_info": {
   "codemirror_mode": {
    "name": "ipython",
    "version": 3
   },
   "file_extension": ".py",
   "mimetype": "text/x-python",
   "name": "python",
   "nbconvert_exporter": "python",
   "pygments_lexer": "ipython3",
   "version": "3.7.6"
  }
 },
 "nbformat": 4,
 "nbformat_minor": 4
}
